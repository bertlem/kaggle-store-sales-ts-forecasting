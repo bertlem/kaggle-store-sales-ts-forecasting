{
 "cells": [
  {
   "cell_type": "markdown",
   "id": "d0e6fb08-bac6-40fe-9d80-d5f2efd06125",
   "metadata": {},
   "source": [
    "# IMPORTS"
   ]
  },
  {
   "cell_type": "code",
   "execution_count": 1,
   "id": "60b56bc6-a835-4b14-a9ad-9cc77aec2b96",
   "metadata": {},
   "outputs": [],
   "source": [
    "import numpy as np\n",
    "import pandas as pd\n",
    "\n",
    "from datetime import datetime, date\n",
    "from pathlib import Path\n",
    "\n",
    "import matplotlib.pyplot as plt\n",
    "import seaborn as sns"
   ]
  },
  {
   "cell_type": "markdown",
   "id": "f0d69fdc-f87d-4857-abd9-affd208ecd3e",
   "metadata": {},
   "source": [
    "# PLOTTING PARAMETERS"
   ]
  },
  {
   "cell_type": "code",
   "execution_count": 2,
   "id": "03bdc254-ead2-4929-aa49-254f40c0ba1f",
   "metadata": {
    "tags": []
   },
   "outputs": [],
   "source": [
    "tex_fonts = {\n",
    "        \"text.usetex\": True,\n",
    "        \"font.family\": \"serif\",\n",
    "        \"axes.titlesize\": 10, \n",
    "        \"axes.labelsize\": 10,\n",
    "        \"font.size\": 10,\n",
    "        \"legend.fontsize\": 'xx-small',\n",
    "        \"legend.title_fontsize\": 10,\n",
    "        \"xtick.labelsize\": 8, #'xx-small',\n",
    "        \"ytick.labelsize\": 8, #'xx-small',\n",
    "        \"ps.usedistiller\": \"xpdf\"\n",
    "        }\n",
    "plt.rcParams.update(tex_fonts)\n",
    "plt.rcParams['text.latex.preamble'] = r'\\usepackage{amsmath,amssymb,underscore}'\n",
    "\n",
    "cm=1/2.54"
   ]
  },
  {
   "cell_type": "markdown",
   "id": "de472ec2-865b-47d9-ba25-5aac3b0e0334",
   "metadata": {},
   "source": [
    "# PATHS"
   ]
  },
  {
   "cell_type": "code",
   "execution_count": 3,
   "id": "62de79f1-f89d-4a12-85ae-8ffa04472b12",
   "metadata": {},
   "outputs": [],
   "source": [
    "path_data = Path('./input')"
   ]
  },
  {
   "cell_type": "code",
   "execution_count": 4,
   "id": "568e8f64-eeb6-44cc-a66f-d8bcfc1baa67",
   "metadata": {},
   "outputs": [],
   "source": [
    "path_plots = Path('./plots')"
   ]
  },
  {
   "cell_type": "code",
   "execution_count": null,
   "id": "65e6b34f-b315-4d31-8e81-beb802860f4e",
   "metadata": {},
   "outputs": [],
   "source": []
  },
  {
   "cell_type": "code",
   "execution_count": 5,
   "id": "8b9c887b-6558-482a-8537-f56ac7d6c526",
   "metadata": {},
   "outputs": [],
   "source": [
    "def plot_ts_fit(train, fit, xlab, ylab, title, path, filename, cm):\n",
    "    \n",
    "    fig = plt.figure(figsize=(18*cm, 12*cm))\n",
    "    ax = fig.add_subplot(111)\n",
    "    \n",
    "    #ax1 = ax.plot(average_sales.dayofyear,average_sales.sales, c='blue', label = 'Training data')\n",
    "    #ax2 = ax.plot(average_sales.dayofyear,y_pred, c='red')\n",
    "    ax1 = ax.plot(train.dayofyear,train.sales, c='blue', label = 'Training data')\n",
    "    ax2 = ax.plot(train.dayofyear,fit, c='red', label = 'Fit to the training data')\n",
    "    \n",
    "    ax.set_xlabel(xlab)\n",
    "    ax.set_ylabel(ylab)\n",
    "    ax.set_title(title)\n",
    "    \n",
    "    ax.legend(title=None,\n",
    "              loc=\"upper right\",\n",
    "              )\n",
    "    \n",
    "    fig.tight_layout()\n",
    "    file = path / str(filename)\n",
    "    fig.savefig(file, format='pdf')"
   ]
  },
  {
   "cell_type": "code",
   "execution_count": null,
   "id": "278661f6-cfbb-44ec-83b5-c52d364ae3db",
   "metadata": {},
   "outputs": [],
   "source": []
  },
  {
   "cell_type": "code",
   "execution_count": null,
   "id": "9a595e41-f943-4c91-837d-7e378cba2918",
   "metadata": {},
   "outputs": [],
   "source": []
  },
  {
   "cell_type": "code",
   "execution_count": null,
   "id": "5bc59600-65e5-4ab1-96a3-dce036e40975",
   "metadata": {},
   "outputs": [],
   "source": []
  },
  {
   "cell_type": "code",
   "execution_count": null,
   "id": "9adffdf8-6a2a-489c-8d6a-de5b34b5431e",
   "metadata": {},
   "outputs": [],
   "source": []
  },
  {
   "cell_type": "markdown",
   "id": "a34f92dc-c1ca-4397-860b-3f70eab2f590",
   "metadata": {},
   "source": [
    "# DATA"
   ]
  },
  {
   "cell_type": "markdown",
   "id": "2516da1c-3ae7-4d6e-a20d-30d7b81b90cc",
   "metadata": {},
   "source": [
    "## Load clean data"
   ]
  },
  {
   "cell_type": "code",
   "execution_count": 6,
   "id": "6400c3a9-4192-46b0-86d4-d92484442840",
   "metadata": {},
   "outputs": [
    {
     "name": "stderr",
     "output_type": "stream",
     "text": [
      "/tmp/ipykernel_9616/2502291277.py:4: DtypeWarning: Columns (10,11) have mixed types. Specify dtype option on import or set low_memory=False.\n",
      "  data = pd.read_csv(input_filename,\n"
     ]
    },
    {
     "data": {
      "text/html": [
       "<div>\n",
       "<style scoped>\n",
       "    .dataframe tbody tr th:only-of-type {\n",
       "        vertical-align: middle;\n",
       "    }\n",
       "\n",
       "    .dataframe tbody tr th {\n",
       "        vertical-align: top;\n",
       "    }\n",
       "\n",
       "    .dataframe thead th {\n",
       "        text-align: right;\n",
       "    }\n",
       "</style>\n",
       "<table border=\"1\" class=\"dataframe\">\n",
       "  <thead>\n",
       "    <tr style=\"text-align: right;\">\n",
       "      <th></th>\n",
       "      <th>date</th>\n",
       "      <th>store_nbr</th>\n",
       "      <th>family</th>\n",
       "      <th>sales</th>\n",
       "      <th>onpromotion</th>\n",
       "      <th>city</th>\n",
       "      <th>state</th>\n",
       "      <th>store_type</th>\n",
       "      <th>cluster</th>\n",
       "      <th>locale</th>\n",
       "      <th>...</th>\n",
       "      <th>dayname</th>\n",
       "      <th>dayofyear</th>\n",
       "      <th>week</th>\n",
       "      <th>year</th>\n",
       "      <th>Terremoto</th>\n",
       "      <th>Futbol</th>\n",
       "      <th>CyberMonday</th>\n",
       "      <th>BlackFriday</th>\n",
       "      <th>Madre</th>\n",
       "      <th>dayofmonth</th>\n",
       "    </tr>\n",
       "    <tr>\n",
       "      <th>index</th>\n",
       "      <th></th>\n",
       "      <th></th>\n",
       "      <th></th>\n",
       "      <th></th>\n",
       "      <th></th>\n",
       "      <th></th>\n",
       "      <th></th>\n",
       "      <th></th>\n",
       "      <th></th>\n",
       "      <th></th>\n",
       "      <th></th>\n",
       "      <th></th>\n",
       "      <th></th>\n",
       "      <th></th>\n",
       "      <th></th>\n",
       "      <th></th>\n",
       "      <th></th>\n",
       "      <th></th>\n",
       "      <th></th>\n",
       "      <th></th>\n",
       "      <th></th>\n",
       "    </tr>\n",
       "  </thead>\n",
       "  <tbody>\n",
       "    <tr>\n",
       "      <th>0</th>\n",
       "      <td>2013-01-01</td>\n",
       "      <td>1</td>\n",
       "      <td>AUTOMOTIVE</td>\n",
       "      <td>0.0</td>\n",
       "      <td>0</td>\n",
       "      <td>Quito</td>\n",
       "      <td>Pichincha</td>\n",
       "      <td>D</td>\n",
       "      <td>13</td>\n",
       "      <td>National</td>\n",
       "      <td>...</td>\n",
       "      <td>Tuesday</td>\n",
       "      <td>1</td>\n",
       "      <td>1</td>\n",
       "      <td>2013</td>\n",
       "      <td>False</td>\n",
       "      <td>False</td>\n",
       "      <td>False</td>\n",
       "      <td>False</td>\n",
       "      <td>False</td>\n",
       "      <td>1</td>\n",
       "    </tr>\n",
       "    <tr>\n",
       "      <th>1</th>\n",
       "      <td>2016-01-01</td>\n",
       "      <td>21</td>\n",
       "      <td>POULTRY</td>\n",
       "      <td>0.0</td>\n",
       "      <td>0</td>\n",
       "      <td>Santo Domingo</td>\n",
       "      <td>Santo Domingo de los Tsachilas</td>\n",
       "      <td>B</td>\n",
       "      <td>6</td>\n",
       "      <td>National</td>\n",
       "      <td>...</td>\n",
       "      <td>Friday</td>\n",
       "      <td>1</td>\n",
       "      <td>53</td>\n",
       "      <td>2016</td>\n",
       "      <td>False</td>\n",
       "      <td>False</td>\n",
       "      <td>False</td>\n",
       "      <td>False</td>\n",
       "      <td>False</td>\n",
       "      <td>1</td>\n",
       "    </tr>\n",
       "    <tr>\n",
       "      <th>2</th>\n",
       "      <td>2016-01-01</td>\n",
       "      <td>21</td>\n",
       "      <td>PREPARED FOODS</td>\n",
       "      <td>0.0</td>\n",
       "      <td>0</td>\n",
       "      <td>Santo Domingo</td>\n",
       "      <td>Santo Domingo de los Tsachilas</td>\n",
       "      <td>B</td>\n",
       "      <td>6</td>\n",
       "      <td>National</td>\n",
       "      <td>...</td>\n",
       "      <td>Friday</td>\n",
       "      <td>1</td>\n",
       "      <td>53</td>\n",
       "      <td>2016</td>\n",
       "      <td>False</td>\n",
       "      <td>False</td>\n",
       "      <td>False</td>\n",
       "      <td>False</td>\n",
       "      <td>False</td>\n",
       "      <td>1</td>\n",
       "    </tr>\n",
       "    <tr>\n",
       "      <th>3</th>\n",
       "      <td>2016-01-01</td>\n",
       "      <td>21</td>\n",
       "      <td>PRODUCE</td>\n",
       "      <td>0.0</td>\n",
       "      <td>0</td>\n",
       "      <td>Santo Domingo</td>\n",
       "      <td>Santo Domingo de los Tsachilas</td>\n",
       "      <td>B</td>\n",
       "      <td>6</td>\n",
       "      <td>National</td>\n",
       "      <td>...</td>\n",
       "      <td>Friday</td>\n",
       "      <td>1</td>\n",
       "      <td>53</td>\n",
       "      <td>2016</td>\n",
       "      <td>False</td>\n",
       "      <td>False</td>\n",
       "      <td>False</td>\n",
       "      <td>False</td>\n",
       "      <td>False</td>\n",
       "      <td>1</td>\n",
       "    </tr>\n",
       "    <tr>\n",
       "      <th>4</th>\n",
       "      <td>2016-01-01</td>\n",
       "      <td>21</td>\n",
       "      <td>SCHOOL AND OFFICE SUPPLIES</td>\n",
       "      <td>0.0</td>\n",
       "      <td>0</td>\n",
       "      <td>Santo Domingo</td>\n",
       "      <td>Santo Domingo de los Tsachilas</td>\n",
       "      <td>B</td>\n",
       "      <td>6</td>\n",
       "      <td>National</td>\n",
       "      <td>...</td>\n",
       "      <td>Friday</td>\n",
       "      <td>1</td>\n",
       "      <td>53</td>\n",
       "      <td>2016</td>\n",
       "      <td>False</td>\n",
       "      <td>False</td>\n",
       "      <td>False</td>\n",
       "      <td>False</td>\n",
       "      <td>False</td>\n",
       "      <td>1</td>\n",
       "    </tr>\n",
       "  </tbody>\n",
       "</table>\n",
       "<p>5 rows × 23 columns</p>\n",
       "</div>"
      ],
      "text/plain": [
       "            date store_nbr                      family  sales  onpromotion  \\\n",
       "index                                                                        \n",
       "0     2013-01-01         1                  AUTOMOTIVE    0.0            0   \n",
       "1     2016-01-01        21                     POULTRY    0.0            0   \n",
       "2     2016-01-01        21              PREPARED FOODS    0.0            0   \n",
       "3     2016-01-01        21                     PRODUCE    0.0            0   \n",
       "4     2016-01-01        21  SCHOOL AND OFFICE SUPPLIES    0.0            0   \n",
       "\n",
       "                city                           state store_type  cluster  \\\n",
       "index                                                                      \n",
       "0              Quito                       Pichincha          D       13   \n",
       "1      Santo Domingo  Santo Domingo de los Tsachilas          B        6   \n",
       "2      Santo Domingo  Santo Domingo de los Tsachilas          B        6   \n",
       "3      Santo Domingo  Santo Domingo de los Tsachilas          B        6   \n",
       "4      Santo Domingo  Santo Domingo de los Tsachilas          B        6   \n",
       "\n",
       "         locale  ...  dayname dayofyear  week  year  Terremoto  Futbol  \\\n",
       "index            ...                                                     \n",
       "0      National  ...  Tuesday         1     1  2013      False   False   \n",
       "1      National  ...   Friday         1    53  2016      False   False   \n",
       "2      National  ...   Friday         1    53  2016      False   False   \n",
       "3      National  ...   Friday         1    53  2016      False   False   \n",
       "4      National  ...   Friday         1    53  2016      False   False   \n",
       "\n",
       "       CyberMonday  BlackFriday  Madre  dayofmonth  \n",
       "index                                               \n",
       "0            False        False  False           1  \n",
       "1            False        False  False           1  \n",
       "2            False        False  False           1  \n",
       "3            False        False  False           1  \n",
       "4            False        False  False           1  \n",
       "\n",
       "[5 rows x 23 columns]"
      ]
     },
     "execution_count": 6,
     "metadata": {},
     "output_type": "execute_result"
    }
   ],
   "source": [
    "# IMPORT CLEAN DATA FROM THE data_cleaning notebook\n",
    "\n",
    "input_filename = path_data / 'clean_data.gz'\n",
    "data = pd.read_csv(input_filename, \n",
    "                   compression=dict(method='gzip'),\n",
    "                   index_col='index',\n",
    "                   dtype={#'store_nbr': 'category',\n",
    "                          'dayname': 'category',\n",
    "                         },\n",
    "                   parse_dates=['date'],\n",
    "                   infer_datetime_format=True,\n",
    "                  ) \n",
    "data['date'] = pd.to_datetime(data['date'])\n",
    "'''\n",
    "csv I/O removes any categorical information (categories and ordering). \n",
    "Such info has to be re initialized, or stored in a hdf files\n",
    "'''\n",
    "listdays = ['Monday', 'Tuesday', 'Wednesday', 'Thursday', 'Friday', 'Saturday', 'Sunday']\n",
    "liststore = list(range(1, 55))\n",
    "# pd.Categorical() to set the order according to the 'days' list\n",
    "data.dayname = pd.Categorical(data.dayname, categories=listdays, ordered=True)\n",
    "data.store_nbr = pd.Categorical(data.store_nbr, categories=liststore, ordered=True)\n",
    "data['dayofmonth'] = data.date.dt.day\n",
    "\n",
    "data.head()"
   ]
  },
  {
   "cell_type": "markdown",
   "id": "46572a9e-697c-4c44-8616-0eea9a80d5a4",
   "metadata": {},
   "source": [
    "## Prepare train data"
   ]
  },
  {
   "cell_type": "code",
   "execution_count": 7,
   "id": "7a849138-b2ee-4046-90b4-3c170840f2ce",
   "metadata": {},
   "outputs": [
    {
     "data": {
      "text/plain": [
       "array([False,  True])"
      ]
     },
     "execution_count": 7,
     "metadata": {},
     "output_type": "execute_result"
    }
   ],
   "source": [
    "train = data.loc[data.year==2017].set_index(['store_nbr', 'family', 'date']).sort_index()\n",
    "# '', '','Madre',\n",
    "train.Madre.unique()"
   ]
  },
  {
   "cell_type": "code",
   "execution_count": 8,
   "id": "8e1e6603-0d42-433c-b9c9-88d8660e6289",
   "metadata": {},
   "outputs": [],
   "source": [
    "# Terremoto always 'False' (it took place in 2016)\n",
    "# Futbol always 'False' (it took place in 2014)\n",
    "# BlackFriday always 'False' (it takes place after the end of the test data)\n",
    "# CyberMonday always 'False' (it takes place after the end of the test data)\n"
   ]
  },
  {
   "cell_type": "code",
   "execution_count": 9,
   "id": "4d724115-8259-47ab-9f6a-a05bb96e7d2f",
   "metadata": {},
   "outputs": [
    {
     "ename": "NameError",
     "evalue": "name 'CalendarFourier' is not defined",
     "output_type": "error",
     "traceback": [
      "\u001b[0;31m---------------------------------------------------------------------------\u001b[0m",
      "\u001b[0;31mNameError\u001b[0m                                 Traceback (most recent call last)",
      "\u001b[0;32m/tmp/ipykernel_9616/2284434943.py\u001b[0m in \u001b[0;36m<module>\u001b[0;34m\u001b[0m\n\u001b[1;32m      1\u001b[0m \u001b[0;31m# Create features for dates in averages_sales\u001b[0m\u001b[0;34m\u001b[0m\u001b[0;34m\u001b[0m\u001b[0m\n\u001b[1;32m      2\u001b[0m \u001b[0;34m\u001b[0m\u001b[0m\n\u001b[0;32m----> 3\u001b[0;31m \u001b[0mfourier\u001b[0m \u001b[0;34m=\u001b[0m \u001b[0mCalendarFourier\u001b[0m\u001b[0;34m(\u001b[0m\u001b[0mfreq\u001b[0m\u001b[0;34m=\u001b[0m\u001b[0;34m'M'\u001b[0m\u001b[0;34m,\u001b[0m \u001b[0morder\u001b[0m\u001b[0;34m=\u001b[0m\u001b[0;36m4\u001b[0m\u001b[0;34m)\u001b[0m\u001b[0;34m\u001b[0m\u001b[0;34m\u001b[0m\u001b[0m\n\u001b[0m\u001b[1;32m      4\u001b[0m \u001b[0;34m\u001b[0m\u001b[0m\n\u001b[1;32m      5\u001b[0m dp = DeterministicProcess(\n",
      "\u001b[0;31mNameError\u001b[0m: name 'CalendarFourier' is not defined"
     ]
    }
   ],
   "source": [
    "# Create features for dates in averages_sales\n",
    "\n",
    "fourier = CalendarFourier(freq='M', order=4)\n",
    "\n",
    "dp = DeterministicProcess(\n",
    "    index=y.index,                # dates from the training data\n",
    "    constant=True,               # dummy feature for the bias (y_intercept)\n",
    "    order=1,                      # the time dummy (trend)\n",
    "    seasonal=True,                # weekly seasonality (dealt with via indicators) \n",
    "    additional_terms = [fourier], # monthly seasonality (dealt with via Fourier coefficients)\n",
    "    drop=True,                    # drop terms if necessary to avoid collinearity\n",
    ")\n",
    "\n",
    "X = dp.in_sample()"
   ]
  },
  {
   "cell_type": "code",
   "execution_count": null,
   "id": "d66a7a4d-55eb-413f-8994-713846d650b8",
   "metadata": {},
   "outputs": [],
   "source": []
  },
  {
   "cell_type": "code",
   "execution_count": null,
   "id": "549d7e47-5731-43f4-992d-329014de438f",
   "metadata": {},
   "outputs": [],
   "source": []
  },
  {
   "cell_type": "code",
   "execution_count": null,
   "id": "a7a8fc96-446e-4cf2-b89a-044750255d0d",
   "metadata": {},
   "outputs": [],
   "source": []
  },
  {
   "cell_type": "markdown",
   "id": "c6b4e4d8-84e9-471c-9731-2e4cb516edb7",
   "metadata": {
    "tags": []
   },
   "source": [
    "## Stores data"
   ]
  },
  {
   "cell_type": "code",
   "execution_count": null,
   "id": "f33cac31-5e6a-431d-a3a2-be206015fad8",
   "metadata": {},
   "outputs": [],
   "source": [
    "stores = pd.read_csv(\n",
    "    path_data / 'stores.csv',\n",
    "    dtype={'store_nbr': 'category',\n",
    "           'city': 'category',\n",
    "           'state': 'category',\n",
    "           'type': 'category',\n",
    "           'cluster': 'category'\n",
    "           },\n",
    "    )\n",
    "# type already use as column name\n",
    "stores.rename(columns={'type': 'store_type'}, inplace=True)\n",
    "stores.head()"
   ]
  },
  {
   "cell_type": "markdown",
   "id": "f8bea6db-af02-4d7e-ae95-a250e6177acd",
   "metadata": {
    "tags": []
   },
   "source": [
    "## Test data"
   ]
  },
  {
   "cell_type": "code",
   "execution_count": null,
   "id": "68a60434-4d94-4252-8238-0eb13d555376",
   "metadata": {
    "tags": []
   },
   "outputs": [],
   "source": [
    "test_in = pd.read_csv(\n",
    "    path_data / 'test.csv',\n",
    "    usecols=['store_nbr', 'family', 'date', 'onpromotion'],\n",
    "    dtype={'store_nbr': 'category',\n",
    "           'family': 'category',\n",
    "           'onpromotion': 'uint32',\n",
    "          },\n",
    "    parse_dates=['date'],\n",
    "    infer_datetime_format=True,\n",
    "    )\n",
    "\n",
    "pd.to_datetime(test_in['date'])\n",
    "test_in.head()"
   ]
  },
  {
   "cell_type": "code",
   "execution_count": null,
   "id": "9218725a-db4b-41d8-8833-9966d9e79b20",
   "metadata": {},
   "outputs": [],
   "source": [
    "# Merge test and stores\n",
    "test2 = test_in.merge(stores, on='store_nbr', how='left')\n",
    "test2.head()"
   ]
  },
  {
   "cell_type": "code",
   "execution_count": null,
   "id": "85d1e0fe-6e52-40bd-bfac-27c39fd275d9",
   "metadata": {},
   "outputs": [],
   "source": [
    "# Import holidays in the test data\n",
    "hol_test = pd.read_csv(path_data / 'hol_test.csv',\n",
    "                       usecols = ['date', 'locale', 'locale_name', 'status', 'Terremoto', 'Futbol', 'CyberMonday', 'BlackFriday', 'Madre'],\n",
    "                       dtype={#'store_nbr': 'category',\n",
    "                              'dayname': 'category',\n",
    "                              },\n",
    "                       parse_dates=['date'],\n",
    "                       infer_datetime_format=True,\n",
    "                      ) \n",
    "hol_test['date'] = pd.to_datetime(hol_test['date'])\n",
    "hol_test"
   ]
  },
  {
   "cell_type": "code",
   "execution_count": null,
   "id": "763bbb1d-06b0-472d-a5a5-d74fbeb55374",
   "metadata": {},
   "outputs": [],
   "source": [
    "# Merge the outcome with holidays\n",
    "test3 = test2.merge(hol_test, on='date', how='left')\n",
    "\n",
    "# At this stage we have a lot of NaNs comimg from hol_test\n",
    "# except the single day with holiday information in the test sample\n",
    "# this is a local holiday at the city 'Ambato'\n",
    "\n",
    "# fill in status with 'holiday' only when 'city' == 'locale_name' (i. e., Ambato)\n",
    "# data in hol_test is simple, so next line is not necessary\n",
    "# test3.loc[~test3.status.isna() and (test3.city==test3.locale_name), 'status'] = 'holiday'\n",
    "\n",
    "# else fill in with 'work'\n",
    "test3.loc[test3.city!=test3.locale_name, 'status'] = 'work'\n",
    "\n",
    "# fill in NaNs\n",
    "test3.loc[test3.Terremoto.isna(), 'Terremoto'] = False\n",
    "test3.loc[test3.Futbol.isna(), 'Futbol'] = False\n",
    "test3.loc[test3.CyberMonday.isna(), 'CyberMonday'] = False\n",
    "test3.loc[test3.BlackFriday.isna(), 'BlackFriday'] = False\n",
    "test3.loc[test3.Madre.isna(), 'Madre'] = False\n",
    "\n",
    "# add boolean column 'workday'\n",
    "test3['Workday'] = np.where(test3['status']=='Work', False, True)\n",
    "\n",
    "# add boolean column 'promotion'\n",
    "test3['Promotion'] = np.where(test3['onpromotion']>0, False, True)\n",
    "\n",
    "# drop columns (locale, locale name)\n",
    "test3.drop(columns=['locale', 'locale_name'], inplace=True)\n",
    "# sanity check\n",
    "test3.loc[test3.status=='holiday'].city.unique()"
   ]
  },
  {
   "cell_type": "code",
   "execution_count": null,
   "id": "8a5b8d0b-a36a-4ea4-ae57-97f8cb4a0a17",
   "metadata": {},
   "outputs": [],
   "source": [
    "test3.head()"
   ]
  }
 ],
 "metadata": {
  "kernelspec": {
   "display_name": "Python 3 (ipykernel)",
   "language": "python",
   "name": "python3"
  },
  "language_info": {
   "codemirror_mode": {
    "name": "ipython",
    "version": 3
   },
   "file_extension": ".py",
   "mimetype": "text/x-python",
   "name": "python",
   "nbconvert_exporter": "python",
   "pygments_lexer": "ipython3",
   "version": "3.9.13"
  }
 },
 "nbformat": 4,
 "nbformat_minor": 5
}
